{
  "nbformat": 4,
  "nbformat_minor": 0,
  "metadata": {
    "colab": {
      "name": "SentimentAnalyzerByPoojaCA.ipynb",
      "provenance": [],
      "collapsed_sections": []
    },
    "kernelspec": {
      "name": "python3",
      "display_name": "Python 3"
    }
  },
  "cells": [
    {
      "cell_type": "code",
      "metadata": {
        "id": "buAYeVyOXkcO",
        "outputId": "0fec8564-1125-4174-f09d-782980e5f950",
        "colab": {
          "base_uri": "https://localhost:8080/"
        }
      },
      "source": [
        "pip install TextBlob"
      ],
      "execution_count": 1,
      "outputs": [
        {
          "output_type": "stream",
          "text": [
            "Requirement already satisfied: TextBlob in /usr/local/lib/python3.6/dist-packages (0.15.3)\n",
            "Requirement already satisfied: nltk>=3.1 in /usr/local/lib/python3.6/dist-packages (from TextBlob) (3.2.5)\n",
            "Requirement already satisfied: six in /usr/local/lib/python3.6/dist-packages (from nltk>=3.1->TextBlob) (1.15.0)\n"
          ],
          "name": "stdout"
        }
      ]
    },
    {
      "cell_type": "code",
      "metadata": {
        "id": "msDP6k7gXzAm",
        "outputId": "294e4621-412d-40fb-c7b6-6c4667a5e731",
        "colab": {
          "base_uri": "https://localhost:8080/"
        }
      },
      "source": [
        "from textblob import TextBlob\n",
        "y = input(\"Type your sentence: \")\n",
        "edu = TextBlob(y)\n",
        "x = edu.sentiment.polarity\n",
        "\n",
        "# Negative if x<0, Neutral if x=0 , Positive if x>0 and x<=1\n",
        "\n",
        "if x<0:\n",
        "  print(\"Negative\")\n",
        "elif x == 0:\n",
        "  print(\"neutral\")\n",
        "elif x>0 and x<=1:\n",
        "  print(\"Positive\")\n",
        "\n",
        "print('Polarity of the sentence or word: ', edu.sentiment.polarity)"
      ],
      "execution_count": 7,
      "outputs": [
        {
          "output_type": "stream",
          "text": [
            "Type your sentence: I'm feeling good\n",
            "Positive\n",
            "Polarity of the sentence or word:  0.7\n"
          ],
          "name": "stdout"
        }
      ]
    }
  ]
}