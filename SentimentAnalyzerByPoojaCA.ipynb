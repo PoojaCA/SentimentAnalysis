{
  "nbformat": 4,
  "nbformat_minor": 0,
  "metadata": {
    "colab": {
      "name": "SentimentAnalyzerByPoojaCA.ipynb",
      "provenance": [],
      "collapsed_sections": []
    },
    "kernelspec": {
      "name": "python3",
      "display_name": "Python 3"
    }
  },
  "cells": [
    {
      "cell_type": "markdown",
      "metadata": {
        "id": "VUvdf6x3gSfd"
      },
      "source": [
        "# Example 1"
      ]
    },
    {
      "cell_type": "code",
      "metadata": {
        "id": "buAYeVyOXkcO",
        "outputId": "594b5818-e1e2-46a9-eb1b-cba877365d33",
        "colab": {
          "base_uri": "https://localhost:8080/"
        }
      },
      "source": [
        "pip install TextBlob"
      ],
      "execution_count": null,
      "outputs": [
        {
          "output_type": "stream",
          "text": [
            "Requirement already satisfied: TextBlob in /usr/local/lib/python3.6/dist-packages (0.15.3)\n",
            "Requirement already satisfied: nltk>=3.1 in /usr/local/lib/python3.6/dist-packages (from TextBlob) (3.2.5)\n",
            "Requirement already satisfied: six in /usr/local/lib/python3.6/dist-packages (from nltk>=3.1->TextBlob) (1.15.0)\n"
          ],
          "name": "stdout"
        }
      ]
    },
    {
      "cell_type": "code",
      "metadata": {
        "id": "08lgFyRhew0T"
      },
      "source": [
        "from textblob import TextBlob"
      ],
      "execution_count": 7,
      "outputs": []
    },
    {
      "cell_type": "code",
      "metadata": {
        "id": "GAPJTBD7fPCN",
        "outputId": "9c582683-c42e-4b74-fc8f-5e11591c4b2a",
        "colab": {
          "base_uri": "https://localhost:8080/"
        }
      },
      "source": [
        "Feedback1 = \"The food at Radisson was awesome\"\n",
        "Feedback2 = \"The food at Radisson was very good\"\n",
        "\n",
        "blob1 = TextBlob(Feedback1)\n",
        "blob2 = TextBlob(Feedback2)\n",
        "\n",
        "print(blob1.sentiment)\n",
        "print(blob2.sentiment)"
      ],
      "execution_count": 8,
      "outputs": [
        {
          "output_type": "stream",
          "text": [
            "Sentiment(polarity=1.0, subjectivity=1.0)\n",
            "Sentiment(polarity=0.9099999999999999, subjectivity=0.7800000000000001)\n"
          ],
          "name": "stdout"
        }
      ]
    },
    {
      "cell_type": "markdown",
      "metadata": {
        "id": "-Tam0tIOgijM"
      },
      "source": [
        "# Example 2"
      ]
    },
    {
      "cell_type": "code",
      "metadata": {
        "id": "msDP6k7gXzAm",
        "outputId": "e26e4eef-5e9b-4c06-da83-eddb1c13ee4d",
        "colab": {
          "base_uri": "https://localhost:8080/"
        }
      },
      "source": [
        "y = input(\"Type your sentence: \")\n",
        "review = TextBlob(y)\n",
        "x = review.sentiment.polarity\n",
        "\n",
        "# Negative if x<0, Neutral if x=0 , Positive if x>0 and x<=1\n",
        "\n",
        "if x<0:\n",
        "  print(\"Negative\")\n",
        "elif x == 0:\n",
        "  print(\"neutral\")\n",
        "elif x>0 and x<=1:\n",
        "  print(\"Positive\")\n",
        "\n",
        "review.sentiment"
      ],
      "execution_count": 9,
      "outputs": [
        {
          "output_type": "stream",
          "text": [
            "Type your sentence: Today is a good day\n",
            "Positive\n"
          ],
          "name": "stdout"
        },
        {
          "output_type": "execute_result",
          "data": {
            "text/plain": [
              "Sentiment(polarity=0.7, subjectivity=0.6000000000000001)"
            ]
          },
          "metadata": {
            "tags": []
          },
          "execution_count": 9
        }
      ]
    }
  ]
}