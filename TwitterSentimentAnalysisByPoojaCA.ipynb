{
  "nbformat": 4,
  "nbformat_minor": 0,
  "metadata": {
    "colab": {
      "name": "TwitterSentimentAnalysisByPoojaCA.ipynb",
      "provenance": [],
      "collapsed_sections": []
    },
    "kernelspec": {
      "name": "python3",
      "display_name": "Python 3"
    }
  },
  "cells": [
    {
      "cell_type": "code",
      "metadata": {
        "id": "4hXzk9S_W5ld",
        "outputId": "9af4cb79-4c16-4572-99b9-aaa81ec61e88",
        "colab": {
          "base_uri": "https://localhost:8080/"
        }
      },
      "source": [
        "import tweepy\n",
        "from textblob import TextBlob\n",
        "\n",
        "consumer_key='62CMyVvrmZVK4FT8tjmt9RZGz'\n",
        "consumer_secret = 'ePvnWYoXRb53DiveudInAfLliz6etCrE5bgu3NWdcNs5wgxlGL'\n",
        "\n",
        "access_token='915761959185690624-9XW2aDG2rrVXI6DGarwE2DdtfZ9Xuez'\n",
        "access_token_secret = 'ourSWMr9CIfB38nLLjX36tNuU7yHgoeXIlJqkFmBBCOqK'\n",
        "\n",
        "auth = tweepy.OAuthHandler(consumer_key,consumer_secret)\n",
        "auth.set_access_token(access_token,access_token_secret)\n",
        "\n",
        "api = tweepy.API(auth)\n",
        "public_tweets = api.search('Trump')\n",
        "\n",
        "for tweet in public_tweets:\n",
        "  print(tweet.text)\n",
        "  analysis = TextBlob(tweet.text)\n",
        "  print(analysis.sentiment)\n",
        " "
      ],
      "execution_count": 2,
      "outputs": [
        {
          "output_type": "stream",
          "text": [
            "You're not very bright, are you? @JoeBiden doesn't need to prove anything. The onus is on Trump. https://t.co/icJbKTdqBh\n",
            "Sentiment(polarity=-0.2692307692307692, subjectivity=0.6153846153846153)\n",
            "@mirandafr02 Eu conheço pelo menos um outro Presidente que ao contrário do nosso tem batido o pé à China, o seu nome é Trump\n",
            "Sentiment(polarity=0.0, subjectivity=0.0)\n",
            "RT @AnaMardoll: The only thing of value in this article is the admission by \"Trump voters\" that they are refusing to hear anything Biden sa…\n",
            "Sentiment(polarity=0.0, subjectivity=1.0)\n",
            "Does Trump actually have a plan to reverse the election? Not really, but he reportedly wants the fight. https://t.co/MVuaW58y5d via @Yahoo\n",
            "Sentiment(polarity=0.03333333333333333, subjectivity=0.13333333333333333)\n",
            "RT @KelemenCari: WOW. Trump just picked up 2 MILLION more votes!\n",
            "Sentiment(polarity=0.3625, subjectivity=0.75)\n",
            "RT @maggieNYT: Some news this morning - I'm working on a book about Trump, from NYC to the presidency. Written about here &gt; https://t.co/84…\n",
            "Sentiment(polarity=0.0, subjectivity=0.0)\n",
            "RT @JohnFetterman: First, thank you for unifying Pennsylvania during this divided time that the Cowboys truly blow.\n",
            "\n",
            "My dude, you put out a…\n",
            "Sentiment(polarity=0.25, subjectivity=0.3333333333333333)\n",
            "RT @IndySpanglish: #iBullshitYouNot \n",
            "#Election2020\n",
            "\n",
            "President Trump calls it AND Joe Biden lies...all within a min and a half.\n",
            "\n",
            "https://t.c…\n",
            "Sentiment(polarity=-0.16666666666666666, subjectivity=0.16666666666666666)\n",
            "RT @Leolucassen: Met minder geprojecteerde kiesmannen dan Biden nu en een veel zwakkere popular vote (minus 3 miljoen tegen plus 5 miljoen…\n",
            "Sentiment(polarity=0.25, subjectivity=0.5)\n",
            "RT @thehill: Four Seasons Total Landscaping launches t-shirt line after Trump campaign news conference https://t.co/6BvsvcH1uM https://t.co…\n",
            "Sentiment(polarity=0.0, subjectivity=0.75)\n",
            "They said this lady Melania Trump has a degree in design and architecture from a Slovenia university.\n",
            "\n",
            "Not after wh… https://t.co/W5Gg3jL2Wt\n",
            "Sentiment(polarity=0.0, subjectivity=0.0)\n",
            "RT @ThePlumLineGS: In Pennsylvania, GOP lawmakers are \"the target of social media campaigns demanding the appointment of electors who favor…\n",
            "Sentiment(polarity=0.03333333333333333, subjectivity=0.06666666666666667)\n",
            "RT @Biden_Army: @DC_Draino Biden: 290\n",
            "Trump: 214\n",
            "Sentiment(polarity=0.0, subjectivity=0.0)\n",
            "RT @Goss30Goss: I embrace the hand recount in Georgia. Nothing like seeing Donald J. Trump lose fucking twice.\n",
            "Sentiment(polarity=-0.6, subjectivity=0.8)\n"
          ],
          "name": "stdout"
        }
      ]
    }
  ]
}